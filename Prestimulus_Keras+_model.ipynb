{
 "cells": [
  {
   "cell_type": "code",
   "execution_count": 9,
   "metadata": {
    "collapsed": true
   },
   "outputs": [],
   "source": [
    "# This model was created to answer to question whether prestimulus activity of prefrontal cortex is more predictive for auditory cortex activity in cocktail-party than cue tasks.\n",
    "#The original research is described in Rodgers CC, DeWeese MR. (2014); Spiking responses of neurons in rodent prefrontal cortex and auditory cortex during a novel stimulus selection task. CRCNS.org.\n",
    "#http://dx.doi.org/10.6080/K0W66HPJ"
   ]
  },
  {
   "cell_type": "code",
   "execution_count": 10,
   "metadata": {
    "collapsed": false
   },
   "outputs": [],
   "source": [
    "import keras\n",
    "from keras.preprocessing import sequence as seq\n",
    "from keras.utils import to_categorical\n"
   ]
  },
  {
   "cell_type": "code",
   "execution_count": null,
   "metadata": {
    "collapsed": true
   },
   "outputs": [],
   "source": [
    "#prestimulus=fantasy.loc[(fantasy['Stim_time']!=1) & (fantasy['Choice_time']!=1) & (fantasy['Stop']!=1)] #EXTRACT PRESTIMULUS ACTIVITY "
   ]
  },
  {
   "cell_type": "code",
   "execution_count": 8,
   "metadata": {
    "collapsed": true
   },
   "outputs": [],
   "source": [
    "#The Keras model was created by following to tutorials and instructions that can be found in https://machinelearningmastery.com/ and\n",
    "#https://keras.io/getting-started/functional-api-guide/ "
   ]
  },
  {
   "cell_type": "code",
   "execution_count": 2,
   "metadata": {
    "collapsed": true
   },
   "outputs": [],
   "source": [
    "#The collected and one-hot enoded data has 21000 data  points and 4 feature column, the spiking actvity of neurons of one group\n",
    "#is presented one column"
   ]
  },
  {
   "cell_type": "code",
   "execution_count": 7,
   "metadata": {
    "collapsed": false
   },
   "outputs": [
    {
     "name": "stdout",
     "output_type": "stream",
     "text": [
      "_________________________________________________________________\n",
      "Layer (type)                 Output Shape              Param #   \n",
      "=================================================================\n",
      "input_5 (InputLayer)         (None, 100, 4)            0         \n",
      "_________________________________________________________________\n",
      "lstm_8 (LSTM)                (None, 100, 100)          42000     \n",
      "_________________________________________________________________\n",
      "time_distributed_4 (TimeDist (None, 100, 4)            404       \n",
      "=================================================================\n",
      "Total params: 42,404\n",
      "Trainable params: 42,404\n",
      "Non-trainable params: 0\n",
      "_________________________________________________________________\n",
      "None\n"
     ]
    }
   ],
   "source": [
    "from keras.utils import plot_model\n",
    "from keras.models import Model\n",
    "from keras.layers import Input\n",
    "from keras.layers import Dense\n",
    "from keras.layers.recurrent import LSTM\n",
    "from keras.layers.wrappers import TimeDistributed\n",
    "# input layer\n",
    "visible = Input(shape=(100,4))\n",
    "\n",
    "layer1 = LSTM(100, return_sequences=True)(visible)\n",
    "\n",
    "\n",
    "\n",
    "\n",
    "output = TimeDistributed(Dense(4, activation='sigmoid'))(layer1)\n",
    "# output\n",
    "model4= Model(inputs=visible, outputs=output)\n",
    "print(model4.summary())"
   ]
  },
  {
   "cell_type": "code",
   "execution_count": null,
   "metadata": {
    "collapsed": true
   },
   "outputs": [],
   "source": [
    "model4.compile(optimizer='nadam',\n",
    "              loss='poisson', metrics=['accuracy'])\n"
   ]
  },
  {
   "cell_type": "code",
   "execution_count": null,
   "metadata": {
    "collapsed": true
   },
   "outputs": [],
   "source": [
    "long=model4.fit(X, y, validation_split=0.2, epochs=100, batch_size=100, verbose=2)"
   ]
  },
  {
   "cell_type": "code",
   "execution_count": null,
   "metadata": {
    "collapsed": true
   },
   "outputs": [],
   "source": [
    "long1=model4.evaluate(X, y)"
   ]
  },
  {
   "cell_type": "code",
   "execution_count": null,
   "metadata": {
    "collapsed": true
   },
   "outputs": [],
   "source": [
    "model4.save('my_model4.h5')  "
   ]
  },
  {
   "cell_type": "code",
   "execution_count": null,
   "metadata": {
    "collapsed": true
   },
   "outputs": [],
   "source": [
    "from keras.models import load_model\n",
    "mod1 = load_model('mod_file')"
   ]
  }
 ],
 "metadata": {
  "kernelspec": {
   "display_name": "Python (other-env)",
   "language": "python",
   "name": "other-env"
  },
  "language_info": {
   "codemirror_mode": {
    "name": "ipython",
    "version": 3
   },
   "file_extension": ".py",
   "mimetype": "text/x-python",
   "name": "python",
   "nbconvert_exporter": "python",
   "pygments_lexer": "ipython3",
   "version": "3.5.4"
  }
 },
 "nbformat": 4,
 "nbformat_minor": 2
}
