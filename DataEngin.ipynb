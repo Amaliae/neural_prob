{
 "cells": [
  {
   "cell_type": "code",
   "execution_count": 1,
   "metadata": {
    "collapsed": true
   },
   "outputs": [],
   "source": [
    "import pandas as pd \n",
    "import numpy as np "
   ]
  },
  {
   "cell_type": "code",
   "execution_count": 2,
   "metadata": {
    "collapsed": true
   },
   "outputs": [],
   "source": [
    "# Open the data # \n",
    "spike_times=pd.read_pickle('./klusters0/CR20B_120531_001_behaving.kkp') \n",
    "trials_info = pd.read_table('trials_info', sep=',', index_col=0) \n",
    "trial_timings=pd.read_table('trial_timings', sep=',', index_col=0)"
   ]
  },
  {
   "cell_type": "code",
   "execution_count": 3,
   "metadata": {
    "collapsed": true
   },
   "outputs": [],
   "source": [
    "# Following function are used to correct floating point of spike times\n",
    "#Returns floats with defined precision \n",
    "def passing(N):\n",
    "    l=[]\n",
    "    for item in N:\n",
    "        x=item*1000/1000\n",
    "        y=\"%.3f\" % x\n",
    "        z=float(y)\n",
    "        l.append\n",
    "        \n",
    "        \n",
    "    return l\n",
    "\n",
    "#Returns decimals \n",
    "def dec(N):\n",
    "    l=[]\n",
    "    \n",
    "    from decimal import Context\n",
    "    \n",
    "    for item in N:\n",
    "        context=Context(prec=3)\n",
    "        x=context.create_decimal_from_float(item)\n",
    "        l.append(x)\n",
    "    return l"
   ]
  },
  {
   "cell_type": "code",
   "execution_count": 10,
   "metadata": {
    "collapsed": false
   },
   "outputs": [],
   "source": [
    "# Get spike and trial times , pass through smmoothing function and synchronize events: \n",
    "\n",
    "S=spike_times[spike_times[\"group\"]==1]['time'].values.tolist()\n",
    "Stim=trial_timings[\"stim_onset\"].values.tolist()\n",
    "Sp_1=np.array(passing(S))\n",
    "Stim=np.array(passing(Stim))\n",
    "# create time axis to bin spike train with 1ms accuracy\n",
    "kl=np.arange(0,5000,0.001).tolist() \n",
    "time_axis=passing(kl)\n",
    "\n",
    "# Synchronize events \n",
    "\n",
    "def Synchronize(x,y):\n",
    "    List=[]\n",
    "    \n",
    "    for item in y:\n",
    "        \n",
    "        if item in x:\n",
    "            List.append(1)\n",
    "        else: \n",
    "            List.append(0)\n",
    "            \n",
    "    return List \n"
   ]
  },
  {
   "cell_type": "code",
   "execution_count": 11,
   "metadata": {
    "collapsed": true
   },
   "outputs": [],
   "source": [
    "# More efficient way to align events \n",
    "S1=np.in1d(time_axis, Sp_1)"
   ]
  },
  {
   "cell_type": "code",
   "execution_count": 12,
   "metadata": {
    "collapsed": true
   },
   "outputs": [],
   "source": [
    "# Create a dataset with all events and spikes \n",
    "#DataTimeValues=pd.DataFrame({'G1':S1, 'G2':S2, 'G3':S3, 'G4':S4, 'G5':S5, 'G6':S6, 'G7':S7, 'G8':S8, 'Start':Start, 'Stop':Stop, 'Stim_time':Stim, 'Choice_time':Choice})\n",
    "# Convert boolean to integer \n",
    "# DataTimeVal=DataTimeValues.astype(int)\n"
   ]
  },
  {
   "cell_type": "code",
   "execution_count": 14,
   "metadata": {
    "collapsed": true
   },
   "outputs": [],
   "source": [
    "# Get binned spike traines\n",
    "#gp1=DataTimeVal['G1'].values.tolist()\n",
    "#Get units from spike time  #example\n",
    "u_1=spike_times[spike_times[\"group\"]==1]['unit'].values.tolist()\n",
    "x=np.unique(spike_times['unit'].values)\n",
    "y=np.arange(1, len(np.unique(spike_times['unit'].values))+1)\n",
    "d=dict(zip(np.unique(x), y))\n",
    "#map dict to units \n",
    "u1=np.vectorize(d.get)(u_1).tolist()\n"
   ]
  },
  {
   "cell_type": "code",
   "execution_count": 15,
   "metadata": {
    "collapsed": true
   },
   "outputs": [],
   "source": [
    "# function to append units to the data \n",
    "def append_unit(x, y):  \n",
    "    u=[]\n",
    "    counter=0\n",
    "    for i in x:\n",
    "        if i==1:\n",
    "            u.append(y[counter])\n",
    "            counter+=1\n",
    "        else: \n",
    "            u.append(0)\n",
    "    return u\n",
    "    "
   ]
  },
  {
   "cell_type": "code",
   "execution_count": 16,
   "metadata": {
    "collapsed": true
   },
   "outputs": [],
   "source": [
    "#unit1=append_unit(gp1, u1) Replace 1 with unit names \n"
   ]
  },
  {
   "cell_type": "code",
   "execution_count": 17,
   "metadata": {
    "collapsed": true
   },
   "outputs": [],
   "source": [
    "def get_trials(x,y): #function that defines trials to train by trials\n",
    "    v=[]\n",
    "    counter=0\n",
    "    for i in range(len(x)):\n",
    "        if x[i]==1:\n",
    "            counter+=1\n",
    "            v.append(counter)\n",
    "            for j in range(len(y)):\n",
    "                if y[j]==0 and j >= i:\n",
    "                    v.append(counter)\n",
    "                    x[j]=2\n",
    "                elif y[j]==1 and j> i:\n",
    "                    break\n",
    "        elif x[i]==0:\n",
    "            v.append(0)\n",
    "        else: \n",
    "            continue\n",
    "    return v\n",
    "            "
   ]
  },
  {
   "cell_type": "code",
   "execution_count": 18,
   "metadata": {
    "collapsed": true
   },
   "outputs": [],
   "source": [
    "#example \n",
    "#sp=DataTimeVal['Start'].values.tolist()\n",
    "#dp=fp=DataTimeVal['Start'].values.tolist()\n",
    "#h=get_trials(dp,fp)"
   ]
  },
  {
   "cell_type": "code",
   "execution_count": 19,
   "metadata": {
    "collapsed": true
   },
   "outputs": [],
   "source": [
    "#function to extract blocks\n",
    "def get_blocks(x,y):\n",
    "    block=[]\n",
    "    for trial in x:\n",
    "        if trial > 0:\n",
    "            block.append(y[trial-1])\n",
    "        else: block.append(0)\n",
    "    return block\n",
    "            "
   ]
  },
  {
   "cell_type": "code",
   "execution_count": 20,
   "metadata": {
    "collapsed": true
   },
   "outputs": [],
   "source": [
    "def oning(x,y):  #function that defines stimulation column to extract evoked activity \n",
    "    v=[]\n",
    "    for i in range(len(x)):\n",
    "        if x[i]==1:\n",
    "            for j in range(len(y)):\n",
    "                if y[j]==0 and j >= i:\n",
    "                    v.append(1)\n",
    "                    x[j]=2\n",
    "                elif y[j]==1 and j> i:\n",
    "                    break \n",
    "        elif x[i]==0:\n",
    "            v.append(0)\n",
    "        else: \n",
    "            continue\n",
    "    return v"
   ]
  },
  {
   "cell_type": "code",
   "execution_count": 21,
   "metadata": {
    "collapsed": true
   },
   "outputs": [],
   "source": [
    "# function that enables to create dataset, where each column represents activity of separate unit, \n",
    "def get_neuron(S):\n",
    "    df=pd.DataFrame(np.zeros(5000000))\n",
    "    Number=np.unique(S).tolist()\n",
    "        \n",
    "    for number in Number:\n",
    "        if number>0:\n",
    "            \n",
    "            d=S[S==number].index.values\n",
    "            m=np.ones(len(d))\n",
    "            r=np.zeros(5000000)\n",
    "            r[d]=m\n",
    "            df=pd.concat([df,pd.DataFrame(r)], axis=1)\n",
    "    return df\n",
    "            "
   ]
  },
  {
   "cell_type": "code",
   "execution_count": 22,
   "metadata": {
    "collapsed": true
   },
   "outputs": [],
   "source": [
    "#example\n",
    "#f1=get_neuron(fantasy['unit1'])\n",
    "\n"
   ]
  },
  {
   "cell_type": "code",
   "execution_count": 23,
   "metadata": {
    "collapsed": true
   },
   "outputs": [],
   "source": [
    "# get activity of defined units during pitch discrimination and localisation trials \n",
    "#evoked=df_ready[df_ready['Stim_time']==1]\n",
    "#pitch_evoked=evoked[evoked['stim_name']=='le_lo_pc']\n",
    "#loc_evoked=evoked[evoked['stim_name']=='le_lo_lc']\n",
    "\n"
   ]
  },
  {
   "cell_type": "code",
   "execution_count": null,
   "metadata": {
    "collapsed": true
   },
   "outputs": [],
   "source": []
  }
 ],
 "metadata": {
  "kernelspec": {
   "display_name": "Python (other-env)",
   "language": "python",
   "name": "other-env"
  },
  "language_info": {
   "codemirror_mode": {
    "name": "ipython",
    "version": 3
   },
   "file_extension": ".py",
   "mimetype": "text/x-python",
   "name": "python",
   "nbconvert_exporter": "python",
   "pygments_lexer": "ipython3",
   "version": "3.5.4"
  }
 },
 "nbformat": 4,
 "nbformat_minor": 2
}
