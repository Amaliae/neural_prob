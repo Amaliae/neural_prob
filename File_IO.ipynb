{
 "cells": [
  {
   "cell_type": "code",
   "execution_count": 1,
   "metadata": {},
   "outputs": [],
   "source": [
    "import pandas as pd \n",
    "import numpy as np\n",
    "import re\n",
    "import glob\n",
    "import os"
   ]
  },
  {
   "cell_type": "code",
   "execution_count": 2,
   "metadata": {},
   "outputs": [],
   "source": [
    "trials_info = pd.read_csv('trials_info2', sep=',', index_col=0)  \n",
    "trial_timings = pd.read_csv('trial_timings2', sep=',', index_col=0) \n",
    "spike_times = pd.read_pickle('./kluster2.kkp') "
   ]
  },
  {
   "cell_type": "code",
   "execution_count": 3,
   "metadata": {},
   "outputs": [],
   "source": [
    "trials_info = trial_timings.join(trials_info) "
   ]
  },
  {
   "cell_type": "code",
   "execution_count": 4,
   "metadata": {},
   "outputs": [],
   "source": [
    "path =\"C://Users//Amalia//Desktop//DATAS//Prefrontal auditory analysis//crcns_pfc-1_data//crcns_pfc-1_data//CR20B\\CR20B_120531_001_behaving//2020Analysis\"\n",
    "dirs = os.listdir( path )\n",
    "ls=[]\n",
    "for file in dirs:\n",
    "    ls.append(file)"
   ]
  },
  {
   "cell_type": "code",
   "execution_count": 8,
   "metadata": {},
   "outputs": [],
   "source": [
    "df3 = pd.DataFrame(columns=list(s))\n"
   ]
  },
  {
   "cell_type": "code",
   "execution_count": 9,
   "metadata": {},
   "outputs": [],
   "source": [
    "def get_data(ls):\n",
    "\n",
    "    \n",
    "    df1 = pd.DataFrame(columns=list(z))\n",
    "\n",
    "    df3 = pd.DataFrame(columns=list(s))\n",
    "\n",
    "    \n",
    "    for l in ls:\n",
    "        \n",
    "    \n",
    "        if re.match('^trials', l):\n",
    "            print('yes')\n",
    "            trials_info = pd.read_csv(str(l), sep=',', index_col=0)\n",
    "            trail_timings=pd.read_csv('trial_timings'+l[-1], sep=',', index_col=0)\n",
    "            trials_info = trial_timings.join(trials_info) \n",
    "            df1=pd.concat([trials_info, df1], sort=True)\n",
    "            \n",
    "      \n",
    "        elif re.match('^kluster', l):\n",
    "            spike_times = pd.read_pickle('./'+str(l))\n",
    "            df3=pd.concat([spike_times, df3], sort=True)\n",
    "        else: pass\n",
    "       \n",
    "            \n",
    "        \n",
    "    return df1, df3\n",
    "        \n",
    "        \n",
    "        \n",
    "    \n",
    "    \n",
    "            \n",
    "            \n",
    "            \n",
    "        \n",
    "         \n",
    "\n",
    "            \n",
    "        \n",
    "        \n",
    "        \n",
    "        \n",
    "        \n"
   ]
  },
  {
   "cell_type": "code",
   "execution_count": 90,
   "metadata": {},
   "outputs": [],
   "source": [
    "#df1, df3= get_data(ls=ls)"
   ]
  },
  {
   "cell_type": "code",
   "execution_count": 21,
   "metadata": {},
   "outputs": [],
   "source": [
    "#df1.loc[df1['block']==1]"
   ]
  },
  {
   "cell_type": "code",
   "execution_count": 89,
   "metadata": {},
   "outputs": [],
   "source": [
    "#spike_times.loc[spike_times[\"unit\"]<500]\n",
    "#between 101 and 499  prefronatal \n",
    "# units between 501 and 899 are in auditory cortex. \n",
    "#stimulus duration 250ms\n",
    "#hold center 250-350ms\n",
    "#choice period 500ms, but timeout 2-6 second for wrong choices. \n",
    "#AP duration 0.002, RF duration at least 1 after spike"
   ]
  },
  {
   "cell_type": "code",
   "execution_count": 88,
   "metadata": {},
   "outputs": [],
   "source": [
    "#trials_info.loc[trials_info[\"correct_side\"]!='left']"
   ]
  },
  {
   "cell_type": "code",
   "execution_count": null,
   "metadata": {},
   "outputs": [],
   "source": []
  }
 ],
 "metadata": {
  "kernelspec": {
   "display_name": "Python 3",
   "language": "python",
   "name": "python3"
  },
  "language_info": {
   "codemirror_mode": {
    "name": "ipython",
    "version": 3
   },
   "file_extension": ".py",
   "mimetype": "text/x-python",
   "name": "python",
   "nbconvert_exporter": "python",
   "pygments_lexer": "ipython3",
   "version": "3.7.3"
  }
 },
 "nbformat": 4,
 "nbformat_minor": 2
}
