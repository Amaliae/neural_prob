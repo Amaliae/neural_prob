{
 "cells": [
  {
   "cell_type": "code",
   "execution_count": 1,
   "metadata": {
    "collapsed": false
   },
   "outputs": [
    {
     "name": "stderr",
     "output_type": "stream",
     "text": [
      "C:\\Users\\Amalia\\AppData\\Local\\conda\\conda\\envs\\tensorflow\\lib\\site-packages\\h5py\\__init__.py:36: FutureWarning: Conversion of the second argument of issubdtype from `float` to `np.floating` is deprecated. In future, it will be treated as `np.float64 == np.dtype(float).type`.\n",
      "  from ._conv import register_converters as _register_converters\n"
     ]
    }
   ],
   "source": [
    "import numpy as np\n",
    "import pandas as pd\n",
    "import tensorflow as tf \n",
    "import edward as ed"
   ]
  },
  {
   "cell_type": "code",
   "execution_count": null,
   "metadata": {
    "collapsed": true
   },
   "outputs": [],
   "source": [
    "# Model structure was taken from edward Bayesian network tutorial , http://edwardlib.org/"
   ]
  },
  {
   "cell_type": "code",
   "execution_count": 2,
   "metadata": {
    "collapsed": true
   },
   "outputs": [],
   "source": [
    "from edward.models import Normal, Bernoulli"
   ]
  },
  {
   "cell_type": "code",
   "execution_count": 3,
   "metadata": {
    "collapsed": false
   },
   "outputs": [],
   "source": [
    "def neural_network(x, W_0, W_1, W_2, b_0, b_1, b_2):\n",
    "    \n",
    "    h = tf.nn.tanh(tf.matmul(x, W_0) + b_0)\n",
    "    h = tf.nn.tanh(tf.matmul(h, W_1) + b_1)\n",
    "    h = tf.matmul(h, W_2) + b_2\n",
    "    return tf.reshape(h, [-1])"
   ]
  },
  {
   "cell_type": "code",
   "execution_count": 9,
   "metadata": {
    "collapsed": false
   },
   "outputs": [],
   "source": [
    "x=pd.read_csv('Xdf').values\n",
    "y=pd.read_csv('Ydf').values"
   ]
  },
  {
   "cell_type": "code",
   "execution_count": 32,
   "metadata": {
    "collapsed": false
   },
   "outputs": [],
   "source": [
    "H=2\n",
    "D=9\n",
    "x_train=np.zeros(5000).reshape(500,10)"
   ]
  },
  {
   "cell_type": "code",
   "execution_count": 33,
   "metadata": {
    "collapsed": false
   },
   "outputs": [],
   "source": [
    "with tf.name_scope('model'):\n",
    "    W_0 = Normal(loc=tf.zeros([D, H], name=\"weights/loc1\"), scale=tf.ones([D, H], name=\"weights/scale1\"))\n",
    "    W_1 = Normal(loc=tf.zeros([H, H], name=\"weights/loc2\"), scale=tf.ones([H, H], name=\"weights/scale2\"))\n",
    "    W_2 = Normal(loc=tf.zeros([H, 1], name=\"weights/loc3\"), scale=tf.ones([H, 1], name=\"weights/scale3\"))\n",
    "    b_0 = Normal(loc=tf.zeros(H, name=\"bias/loc1\"), scale=tf.ones(H, name=\"bias/scale1\"))\n",
    "    b_1 = Normal(loc=tf.zeros(H, name=\"bias/loc2\"), scale=tf.ones(H, name=\"bias/scale2\"))\n",
    "    b_2 = Normal(loc=tf.zeros(1, name=\"bias/loc3\"), scale=tf.ones(1, name=\"bias/loc3\"))"
   ]
  },
  {
   "cell_type": "code",
   "execution_count": null,
   "metadata": {
    "collapsed": true
   },
   "outputs": [],
   "source": [
    "x = tf.cast(X_train, dtype=tf.float32)\n",
    "y = Bernoulli(logits=neural_network(x, W_0, W_1, W_2, b_0, b_1, b_2))"
   ]
  },
  {
   "cell_type": "code",
   "execution_count": 36,
   "metadata": {
    "collapsed": false
   },
   "outputs": [],
   "source": [
    "with tf.name_scope(\"posterior\"):\n",
    "    qW_0 = Normal(loc=tf.Variable(tf.random_normal([D, H], name='qw/loc1',)),\n",
    "scale=tf.nn.softplus(tf.Variable(tf.random_normal([D, H], name=\"qw/unconstrained_scale1\"))))\n",
    "    qW_1 = Normal(loc=tf.Variable(tf.random_normal([H, H], name='qw/loc2')),\n",
    "scale=tf.nn.softplus(tf.Variable(tf.random_normal([H, H], name=\"qw/unconstrained_scale2\"))))\n",
    "    qW_2 = Normal(loc=tf.Variable(tf.random_normal([H, 1], name='qw/loc3')),\n",
    "scale=tf.nn.softplus(tf.Variable(tf.random_normal([H, 1], name=\"qw/unconstrained_scale3\"))))\n",
    "    qb_0 = Normal(loc=tf.Variable(tf.random_normal([H], name='qw/loc4')),\n",
    "scale=tf.nn.softplus(tf.Variable(tf.random_normal([H], name=\"qw/unconstrained_scale4\"))))\n",
    "    qb_1 = Normal(loc=tf.Variable(tf.random_normal([H], name='qw/loc5')),\n",
    "scale=tf.nn.softplus(tf.Variable(tf.random_normal([H], name=\"qw/unconstrained_scale5\"))))\n",
    "    qb_2 = Normal(loc=tf.Variable(tf.random_normal([1], name='qw/loc6')),\n",
    "scale=tf.nn.softplus(tf.Variable(tf.random_normal([1], name=\"qw/unconstrained_scale6\"))))"
   ]
  },
  {
   "cell_type": "code",
   "execution_count": null,
   "metadata": {
    "collapsed": true
   },
   "outputs": [],
   "source": [
    "a=y_train.ravel()\n",
    "a.shape"
   ]
  },
  {
   "cell_type": "code",
   "execution_count": null,
   "metadata": {
    "collapsed": true
   },
   "outputs": [],
   "source": [
    "inference = ed.KLqp({W_0: qW_0, b_0: qb_0,\n",
    "W_1: qW_1, b_1: qb_1,\n",
    "W_2: qW_2, b_2: qb_2}, data={y: y_train})"
   ]
  },
  {
   "cell_type": "code",
   "execution_count": 38,
   "metadata": {
    "collapsed": true
   },
   "outputs": [],
   "source": [
    "inference.run(n_iter=1000, n_print=100, n_samples=10, logdir='log')"
   ]
  },
  {
   "cell_type": "code",
   "execution_count": null,
   "metadata": {
    "collapsed": true
   },
   "outputs": [],
   "source": [
    "y_post = ed.copy(y, {W_0: qW_0.mean(), b_0: qb_0.mean(),\n",
    "W_1: qW_1.mean(), b_1: qb_1.mean(),\n",
    "W_2: qW_2.mean(), b_1: qb_2.mean()})"
   ]
  },
  {
   "cell_type": "code",
   "execution_count": null,
   "metadata": {
    "collapsed": true
   },
   "outputs": [],
   "source": [
    "print(ed.evaluate('binary_accuracy', data={x:X_train, y_post:a}, output_key=y_post))\n"
   ]
  },
  {
   "cell_type": "code",
   "execution_count": null,
   "metadata": {
    "collapsed": true
   },
   "outputs": [],
   "source": [
    "print(ed.evaluate('log_lik', data={x: X_train, y_post: a}, output_key=y_post ))"
   ]
  },
  {
   "cell_type": "code",
   "execution_count": null,
   "metadata": {
    "collapsed": true
   },
   "outputs": [],
   "source": [
    "writer=tf.summary.FileWriter('log')\n",
    "writer.add_graph(tf.Session().graph)\n",
    "writer.close()"
   ]
  },
  {
   "cell_type": "code",
   "execution_count": null,
   "metadata": {
    "collapsed": true
   },
   "outputs": [],
   "source": []
  }
 ],
 "metadata": {
  "kernelspec": {
   "display_name": "Python (other-env)",
   "language": "python",
   "name": "other-env"
  },
  "language_info": {
   "codemirror_mode": {
    "name": "ipython",
    "version": 3
   },
   "file_extension": ".py",
   "mimetype": "text/x-python",
   "name": "python",
   "nbconvert_exporter": "python",
   "pygments_lexer": "ipython3",
   "version": "3.5.4"
  }
 },
 "nbformat": 4,
 "nbformat_minor": 2
}
