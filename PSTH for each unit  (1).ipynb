{
 "cells": [
  {
   "cell_type": "code",
   "execution_count": 1,
   "metadata": {},
   "outputs": [],
   "source": [
    "import numpy as np\n",
    "import pandas as pd\n",
    "import matplotlib.pyplot as plt "
   ]
  },
  {
   "cell_type": "code",
   "execution_count": 2,
   "metadata": {},
   "outputs": [],
   "source": [
    "trials_info = pd.read_csv('trials_info2', sep=',', index_col=0)  \n",
    "trial_timings = pd.read_csv('trial_timings2', sep=',', index_col=0) \n",
    "spike_times = pd.read_pickle('./kluster2.kkp') \n",
    "trials_info = trial_timings.join(trials_info) "
   ]
  },
  {
   "cell_type": "code",
   "execution_count": 3,
   "metadata": {},
   "outputs": [],
   "source": [
    "st=np.unique(trials_info['stim_name'].values).tolist()"
   ]
  },
  {
   "cell_type": "code",
   "execution_count": 4,
   "metadata": {},
   "outputs": [],
   "source": [
    "#trials_info[trials_info['go_or_nogo']=='go']"
   ]
  },
  {
   "cell_type": "code",
   "execution_count": 1,
   "metadata": {},
   "outputs": [],
   "source": [
    "#trials_info"
   ]
  },
  {
   "cell_type": "code",
   "execution_count": 6,
   "metadata": {},
   "outputs": [],
   "source": [
    "#trials_info"
   ]
  },
  {
   "cell_type": "code",
   "execution_count": 6,
   "metadata": {},
   "outputs": [],
   "source": [
    "def passing(N):\n",
    "    l=[]\n",
    "    for item in N:\n",
    "        x=item*1000/1000\n",
    "        y=\"%.3f\" % x\n",
    "        z=float(y)\n",
    "        l.append(z)\n",
    "        \n",
    "        \n",
    "    return l"
   ]
  },
  {
   "cell_type": "code",
   "execution_count": 7,
   "metadata": {},
   "outputs": [],
   "source": [
    "gr=spike_times[spike_times['group']>4]\n",
    "gr=gr.sort_values(by=['time']).reset_index()\n",
    "u=np.unique(gr['unit'].values)"
   ]
  },
  {
   "cell_type": "code",
   "execution_count": 8,
   "metadata": {},
   "outputs": [],
   "source": [
    "time_axes=np.zeros(8000000)"
   ]
  },
  {
   "cell_type": "code",
   "execution_count": 9,
   "metadata": {},
   "outputs": [],
   "source": [
    "def unit(gr,units, time_axes):\n",
    "    \n",
    "    \n",
    "    time=time_axes.astype(int).reshape(-1,1)\n",
    "    \n",
    "                      \n",
    "    for number in units:\n",
    "        \n",
    "        val=np.array(passing(gr[gr['unit']==number]['time'].values))*1000\n",
    "        \n",
    "        h=val.astype(int).tolist()\n",
    "        \n",
    "        time_ax=np.zeros(8000000).astype(int)\n",
    "        \n",
    "        time_ax[h]=1\n",
    "        \n",
    "        time=np.append(time, time_ax.reshape(-1,1), axis=1)\n",
    "        \n",
    "    return time"
   ]
  },
  {
   "cell_type": "code",
   "execution_count": 10,
   "metadata": {},
   "outputs": [],
   "source": [
    "units_col=unit(gr, u, time_axes)"
   ]
  },
  {
   "cell_type": "code",
   "execution_count": 11,
   "metadata": {},
   "outputs": [
    {
     "data": {
      "text/plain": [
       "(array([0, 1]), array([415135408,    864592], dtype=int64))"
      ]
     },
     "execution_count": 11,
     "metadata": {},
     "output_type": "execute_result"
    }
   ],
   "source": [
    "np.unique(units_col, return_counts=True)"
   ]
  },
  {
   "cell_type": "code",
   "execution_count": 12,
   "metadata": {},
   "outputs": [],
   "source": [
    "df_units=pd.DataFrame(units_col)\n",
    "df_units=df_units.drop(df_units.columns[[0]], axis = 1)"
   ]
  },
  {
   "cell_type": "code",
   "execution_count": 13,
   "metadata": {},
   "outputs": [],
   "source": [
    "df_units.columns=u"
   ]
  },
  {
   "cell_type": "code",
   "execution_count": 14,
   "metadata": {},
   "outputs": [],
   "source": [
    "def all_stimulus(st, trials_info):\n",
    "    df=pd.DataFrame(np.zeros(8000000))\n",
    "    \n",
    "    for value in st: \n",
    "        ar=np.array(passing(np.sort(trials_info[trials_info['stim_name']==value]['stim_onset'].values)))*1000\n",
    "        ev_ar=evoked(ar)\n",
    "        df[value]=ev_ar\n",
    "    return df\n",
    "        "
   ]
  },
  {
   "cell_type": "code",
   "execution_count": 20,
   "metadata": {},
   "outputs": [],
   "source": [
    "stim_t=all_stimulus(st, trials_info)"
   ]
  },
  {
   "cell_type": "code",
   "execution_count": 15,
   "metadata": {},
   "outputs": [],
   "source": [
    "def modify_array(h):\n",
    "    ar=h.astype(int)\n",
    "    val=np.unique(ar)\n",
    "   \n",
    "    \n",
    "    for v in val:\n",
    "       \n",
    "        ind=np.where(ar==v)[0].astype(int).tolist()\n",
    "        ins=np.arange(int(v), int(v)+251, 1).astype(int)\n",
    "        ar=np.insert(ar.astype(int), ind[0], ins)\n",
    "        \n",
    "    return ar\n",
    "        "
   ]
  },
  {
   "cell_type": "code",
   "execution_count": 16,
   "metadata": {},
   "outputs": [],
   "source": [
    "def evoked(array):\n",
    "    \n",
    "\n",
    "    t=np.zeros(8000000).astype(int)\n",
    "    indices=modify_array(array)\n",
    "    ind=indices.astype(int).tolist()\n",
    "    t[ind]=1\n",
    "    \n",
    "    return t\n",
    "    "
   ]
  },
  {
   "cell_type": "code",
   "execution_count": 17,
   "metadata": {},
   "outputs": [],
   "source": [
    "def pres(start, d):\n",
    "    ar=start.astype(int)\n",
    "    val=np.unique(ar)\n",
    "    counter=0\n",
    "    for v in val:\n",
    "        \n",
    "        ind=np.where(ar==v)[0].astype(int).tolist()\n",
    "        ins=np.arange(int(v), int(v)+int(d[counter]), 1).astype(int)\n",
    "        ar=np.insert(ar.astype(int), ind[0], ins)\n",
    "        counter=counter+1\n",
    "    return ar\n",
    "        "
   ]
  },
  {
   "cell_type": "code",
   "execution_count": 18,
   "metadata": {},
   "outputs": [],
   "source": [
    "def pres_evoked(array, d):\n",
    "    \n",
    "    \n",
    "\n",
    "    t=np.zeros(8000000).astype(int)\n",
    "    indices=pres(array, d)\n",
    "    ind=indices.astype(int).tolist()\n",
    "    t[ind]=1\n",
    "    \n",
    "    return t\n",
    "    "
   ]
  },
  {
   "cell_type": "code",
   "execution_count": 19,
   "metadata": {},
   "outputs": [],
   "source": [
    "def all_prestimulus(st, trials_info):\n",
    "    df=pd.DataFrame(np.zeros(8000000))\n",
    "    for value in st:\n",
    "        pres=trials_info[trials_info['stim_name']==value]['cpoke_start'].values\n",
    "        d=(np.array(passing(trials_info[trials_info['stim_name']==value]['stim_onset'].values))-np.array(passing(trials_info[trials_info['stim_name']==value]['cpoke_start'].values)))*1000\n",
    "        d=d.astype(int)\n",
    "        pres=np.array(passing(pres))*1000\n",
    "        prestimulus=pres_evoked(pres, d)\n",
    "        df[value+\"pres\"]=prestimulus\n",
    "    return df\n",
    "        "
   ]
  },
  {
   "cell_type": "code",
   "execution_count": 21,
   "metadata": {},
   "outputs": [],
   "source": [
    "pres_t=all_prestimulus(st, trials_info)"
   ]
  },
  {
   "cell_type": "code",
   "execution_count": 22,
   "metadata": {},
   "outputs": [],
   "source": [
    "df=pd.concat([df_units, pres_t.drop(pres_t.columns[[0]], axis = 1), stim_t.drop(stim_t.columns[[0]], axis = 1)], axis=1)"
   ]
  },
  {
   "cell_type": "code",
   "execution_count": 23,
   "metadata": {},
   "outputs": [
    {
     "data": {
      "text/plain": [
       "Index([           501,            502,            503,            504,\n",
       "                  505,            506,            507,            508,\n",
       "                  509,            510,            511,            512,\n",
       "                  601,            602,            604,            605,\n",
       "                  606,            607,            608,            609,\n",
       "                  611,            612,            701,            702,\n",
       "                  706,            707,            708,            710,\n",
       "                  711,            712,            713,            715,\n",
       "                  801,            802,            803,            804,\n",
       "                  805,            806,            807,            808,\n",
       "                  809,            810,            811,            812,\n",
       "                  813,            814,            815,            816,\n",
       "                  817,            818,            819, 'hi_pc_nopres',\n",
       "       'le_hi_lcpres', 'le_hi_pcpres', 'le_lc_gopres', 'le_lo_lcpres',\n",
       "       'le_lo_pcpres', 'lo_pc_gopres', 'ri_hi_lcpres', 'ri_hi_pcpres',\n",
       "       'ri_lc_nopres', 'ri_lo_lcpres', 'ri_lo_pcpres',     'hi_pc_no',\n",
       "           'le_hi_lc',     'le_hi_pc',     'le_lc_go',     'le_lo_lc',\n",
       "           'le_lo_pc',     'lo_pc_go',     'ri_hi_lc',     'ri_hi_pc',\n",
       "           'ri_lc_no',     'ri_lo_lc',     'ri_lo_pc'],\n",
       "      dtype='object')"
      ]
     },
     "execution_count": 23,
     "metadata": {},
     "output_type": "execute_result"
    }
   ],
   "source": [
    "df.columns"
   ]
  },
  {
   "cell_type": "code",
   "execution_count": 24,
   "metadata": {},
   "outputs": [],
   "source": [
    "df['indexes']=df.index"
   ]
  },
  {
   "cell_type": "code",
   "execution_count": null,
   "metadata": {},
   "outputs": [],
   "source": [
    "for i in range (0, 50):\n",
    "    \n",
    "    \n",
    "    stim=df[df['le_hi_lc']==1]\n",
    "    single_stim=stim.iloc[:, i].values.reshape(87,251)\n",
    "    name=stim.iloc[:,i].head().name\n",
    "    ind=stim.iloc[:,i].index.values.reshape(87,251)\n",
    "    idd=ind[:,0]\n",
    "    mean_count=per_trial(df, idd, single_stim).tolist()\n",
    "    m_r=[l/86 for l in mean_count]\n",
    "    pd.DataFrame(m_r).to_csv(str(name)+'le_hi_lc.csv')\n",
    "        "
   ]
  },
  {
   "cell_type": "code",
   "execution_count": 44,
   "metadata": {},
   "outputs": [],
   "source": [
    "\n",
    "   \n",
    "  \n",
    "  \n",
    "    \n",
    "for i in range (3, 50):\n",
    "    for n in range(51, 75):\n",
    "        if not str(df.iloc[:,n].head().name).endswith('pres'):\n",
    "            number=df.iloc[:,n].head().name\n",
    "            \n",
    "            stim=df[df[str(df.iloc[:,n].head().name)]==1]\n",
    "            ln=len(stim)/251\n",
    "            single_stim=stim.iloc[:, i].values.reshape(int(ln), 251)\n",
    "            name=stim.iloc[:,i].head().name\n",
    "            ind=stim.iloc[:,i].index.values.reshape(int(ln), 251)\n",
    "            idd=ind[:,0]\n",
    "            mean_count=per_trial(df, idd, single_stim, number, ln).tolist()\n",
    "            m_r=[l/(int(ln)-1) for l in mean_count]\n",
    "            pd.DataFrame(m_r).to_csv(str(name)+str(number)+'.csv')\n",
    "        \n",
    "                 \n",
    "                                 \n",
    "            \n",
    "       \n",
    "                             \n",
    "                               \n",
    "                                \n",
    "            \n",
    "            \n",
    "            \n",
    "        \n",
    "        \n",
    "        \n",
    "        "
   ]
  },
  {
   "cell_type": "code",
   "execution_count": 42,
   "metadata": {},
   "outputs": [],
   "source": [
    " def per_trial(df, idd, single_stim, number, ln):\n",
    "        b=np.zeros(13)\n",
    "      \n",
    "        \n",
    "        for t in range(1, int(ln)):\n",
    "            \n",
    "            \n",
    "            \n",
    "            \n",
    "            temp_t=single_stim[t].tolist()\n",
    "            pres_t=df[(df['indexes'] < int(idd[t])) & (df[str(number)+'pres']==1)&(df['indexes'] > int(idd[t-1]))]\n",
    "            pres=pres_t.iloc[:, i].values.tolist()\n",
    "            all=pres+temp_t\n",
    "            all_equal=all+ np.zeros(650-len(all)).tolist()\n",
    "                                 \n",
    "            a=np.array(all_equal).reshape(13, 50).tolist()\n",
    "            a=[sub.count(1)*20 for sub in a ]\n",
    "            b=b+np.array(a)    \n",
    "            \n",
    "        return b \n",
    "                                 \n",
    "                       "
   ]
  },
  {
   "cell_type": "code",
   "execution_count": null,
   "metadata": {},
   "outputs": [],
   "source": []
  }
 ],
 "metadata": {
  "kernelspec": {
   "display_name": "Python 3",
   "language": "python",
   "name": "python3"
  },
  "language_info": {
   "codemirror_mode": {
    "name": "ipython",
    "version": 3
   },
   "file_extension": ".py",
   "mimetype": "text/x-python",
   "name": "python",
   "nbconvert_exporter": "python",
   "pygments_lexer": "ipython3",
   "version": "3.7.3"
  }
 },
 "nbformat": 4,
 "nbformat_minor": 2
}
